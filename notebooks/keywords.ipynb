{
  "cells": [
    {
      "cell_type": "markdown",
      "source": [
        "# Keywords extraction"
      ],
      "metadata": {
        "id": "He9Fl5OOEdXs"
      }
    },
    {
      "cell_type": "markdown",
      "source": [
        "**YAKE**"
      ],
      "metadata": {
        "id": "91mkcVEEF5j8"
      }
    },
    {
      "cell_type": "code",
      "source": [
        "%pip install yake"
      ],
      "metadata": {
        "colab": {
          "base_uri": "https://localhost:8080/"
        },
        "id": "YCHsqNe4jh97",
        "outputId": "fefef2d2-1538-401c-fb43-01993eceec2d"
      },
      "execution_count": null,
      "outputs": [
        {
          "output_type": "stream",
          "name": "stdout",
          "text": [
            "Collecting yake\n",
            "  Downloading yake-0.4.8-py2.py3-none-any.whl (60 kB)\n",
            "\u001b[2K     \u001b[90m━━━━━━━━━━━━━━━━━━━━━━━━━━━━━━━━━━━━━━━━\u001b[0m \u001b[32m60.2/60.2 kB\u001b[0m \u001b[31m1.1 MB/s\u001b[0m eta \u001b[36m0:00:00\u001b[0m\n",
            "\u001b[?25hRequirement already satisfied: tabulate in /usr/local/lib/python3.10/dist-packages (from yake) (0.9.0)\n",
            "Requirement already satisfied: click>=6.0 in /usr/local/lib/python3.10/dist-packages (from yake) (8.1.7)\n",
            "Requirement already satisfied: numpy in /usr/local/lib/python3.10/dist-packages (from yake) (1.25.2)\n",
            "Collecting segtok (from yake)\n",
            "  Downloading segtok-1.5.11-py3-none-any.whl (24 kB)\n",
            "Requirement already satisfied: networkx in /usr/local/lib/python3.10/dist-packages (from yake) (3.3)\n",
            "Collecting jellyfish (from yake)\n",
            "  Downloading jellyfish-1.0.3-cp310-cp310-manylinux_2_17_x86_64.manylinux2014_x86_64.whl (1.2 MB)\n",
            "\u001b[2K     \u001b[90m━━━━━━━━━━━━━━━━━━━━━━━━━━━━━━━━━━━━━━━━\u001b[0m \u001b[32m1.2/1.2 MB\u001b[0m \u001b[31m10.0 MB/s\u001b[0m eta \u001b[36m0:00:00\u001b[0m\n",
            "\u001b[?25hRequirement already satisfied: regex in /usr/local/lib/python3.10/dist-packages (from segtok->yake) (2023.12.25)\n",
            "Installing collected packages: segtok, jellyfish, yake\n",
            "Successfully installed jellyfish-1.0.3 segtok-1.5.11 yake-0.4.8\n"
          ]
        }
      ]
    },
    {
      "cell_type": "code",
      "source": [
        "%pip install pymorphy2"
      ],
      "metadata": {
        "colab": {
          "base_uri": "https://localhost:8080/"
        },
        "id": "H2pya29BjnCD",
        "outputId": "c37abbe7-e3e0-45a3-e2b5-5e43cd3b074c"
      },
      "execution_count": null,
      "outputs": [
        {
          "output_type": "stream",
          "name": "stdout",
          "text": [
            "Collecting pymorphy2\n",
            "  Downloading pymorphy2-0.9.1-py3-none-any.whl (55 kB)\n",
            "\u001b[2K     \u001b[90m━━━━━━━━━━━━━━━━━━━━━━━━━━━━━━━━━━━━━━━━\u001b[0m \u001b[32m55.5/55.5 kB\u001b[0m \u001b[31m776.4 kB/s\u001b[0m eta \u001b[36m0:00:00\u001b[0m\n",
            "\u001b[?25hCollecting dawg-python>=0.7.1 (from pymorphy2)\n",
            "  Downloading DAWG_Python-0.7.2-py2.py3-none-any.whl (11 kB)\n",
            "Collecting pymorphy2-dicts-ru<3.0,>=2.4 (from pymorphy2)\n",
            "  Downloading pymorphy2_dicts_ru-2.4.417127.4579844-py2.py3-none-any.whl (8.2 MB)\n",
            "\u001b[2K     \u001b[90m━━━━━━━━━━━━━━━━━━━━━━━━━━━━━━━━━━━━━━━━\u001b[0m \u001b[32m8.2/8.2 MB\u001b[0m \u001b[31m23.5 MB/s\u001b[0m eta \u001b[36m0:00:00\u001b[0m\n",
            "\u001b[?25hCollecting docopt>=0.6 (from pymorphy2)\n",
            "  Downloading docopt-0.6.2.tar.gz (25 kB)\n",
            "  Preparing metadata (setup.py) ... \u001b[?25l\u001b[?25hdone\n",
            "Building wheels for collected packages: docopt\n",
            "  Building wheel for docopt (setup.py) ... \u001b[?25l\u001b[?25hdone\n",
            "  Created wheel for docopt: filename=docopt-0.6.2-py2.py3-none-any.whl size=13706 sha256=a380662ca07fc951ebcbb5c74f8cf83d0b0b335985388a5400dc9f425fab223c\n",
            "  Stored in directory: /root/.cache/pip/wheels/fc/ab/d4/5da2067ac95b36618c629a5f93f809425700506f72c9732fac\n",
            "Successfully built docopt\n",
            "Installing collected packages: pymorphy2-dicts-ru, docopt, dawg-python, pymorphy2\n",
            "Successfully installed dawg-python-0.7.2 docopt-0.6.2 pymorphy2-0.9.1 pymorphy2-dicts-ru-2.4.417127.4579844\n"
          ]
        }
      ]
    },
    {
      "cell_type": "code",
      "execution_count": null,
      "metadata": {
        "colab": {
          "base_uri": "https://localhost:8080/"
        },
        "id": "SZwAtE_Vi5oZ",
        "outputId": "1f3a601f-b231-40e8-a65e-f67541edd71f"
      },
      "outputs": [
        {
          "output_type": "stream",
          "name": "stdout",
          "text": [
            "Drive already mounted at /content/drive; to attempt to forcibly remount, call drive.mount(\"/content/drive\", force_remount=True).\n"
          ]
        }
      ],
      "source": [
        "from google.colab import drive\n",
        "drive.mount('/content/drive')\n",
        "\n",
        "import pandas as pd\n",
        "from yake import KeywordExtractor\n",
        "import pymorphy2\n",
        "import re"
      ]
    },
    {
      "cell_type": "code",
      "source": [
        "import zipfile\n",
        "\n",
        "zip_file_path = '/content/drive/MyDrive/vk_hack/archive.zip'\n",
        "\n",
        "with zipfile.ZipFile(zip_file_path, 'r') as zip_ref:\n",
        "    with zip_ref.open('lenta-ru-news.csv') as file:\n",
        "        df = pd.read_csv(file)\n",
        "\n",
        "print(df.head())"
      ],
      "metadata": {
        "colab": {
          "base_uri": "https://localhost:8080/"
        },
        "id": "7CBGNpTsi8pS",
        "outputId": "33f8ee5c-6ab7-411e-d598-545f3bbe1e53"
      },
      "execution_count": null,
      "outputs": [
        {
          "output_type": "stream",
          "name": "stdout",
          "text": [
            "                                           url  \\\n",
            "0   https://lenta.ru/news/1914/09/16/hungarnn/   \n",
            "1  https://lenta.ru/news/1914/09/16/lermontov/   \n",
            "2  https://lenta.ru/news/1914/09/17/nesteroff/   \n",
            "3   https://lenta.ru/news/1914/09/17/bulldogn/   \n",
            "4       https://lenta.ru/news/1914/09/18/zver/   \n",
            "\n",
            "                                               title  \\\n",
            "0  1914. Русские войска вступили в пределы Венгрии     \n",
            "1  1914. Празднование столетия М.Ю. Лермонтова от...   \n",
            "2                           1914. Das ist Nesteroff!   \n",
            "3                    1914. Бульдог-гонец под Льежем    \n",
            "4           1914. Под Люблином пойман швабский зверь   \n",
            "\n",
            "                                                text       topic  \\\n",
            "0  Бои у Сопоцкина и Друскеник закончились отступ...  Библиотека   \n",
            "1  Министерство народного просвещения, в виду про...  Библиотека   \n",
            "2  Штабс-капитан П. Н. Нестеров на днях, увидев в...  Библиотека   \n",
            "3  Фотограф-корреспондент Daily Mirror рассказыва...  Библиотека   \n",
            "4  Лица, приехавшие в Варшаву из Люблина, передаю...  Библиотека   \n",
            "\n",
            "             tags        date  \n",
            "0  Первая мировая  1914/09/16  \n",
            "1  Первая мировая  1914/09/16  \n",
            "2  Первая мировая  1914/09/17  \n",
            "3  Первая мировая  1914/09/17  \n",
            "4  Первая мировая  1914/09/18  \n"
          ]
        },
        {
          "output_type": "stream",
          "name": "stderr",
          "text": [
            "<ipython-input-5-7cb714f09921>:7: DtypeWarning: Columns (3) have mixed types. Specify dtype option on import or set low_memory=False.\n",
            "  df = pd.read_csv(file)\n"
          ]
        }
      ]
    },
    {
      "cell_type": "code",
      "source": [
        "df.drop(columns=['url'], inplace=True)\n",
        "df.dropna(subset=['text'], inplace=True)\n",
        "df.shape"
      ],
      "metadata": {
        "colab": {
          "base_uri": "https://localhost:8080/"
        },
        "id": "DiBJ_cJJi-5a",
        "outputId": "b7e982ef-f4f0-4f01-ca9b-7210fa65b762"
      },
      "execution_count": null,
      "outputs": [
        {
          "output_type": "execute_result",
          "data": {
            "text/plain": [
              "(800970, 5)"
            ]
          },
          "metadata": {},
          "execution_count": 6
        }
      ]
    },
    {
      "cell_type": "code",
      "source": [
        "def work(text : str):\n",
        "    morph = pymorphy2.MorphAnalyzer()\n",
        "    russian_pattern = re.compile('[а-яё]+', re.I)\n",
        "\n",
        "    extractor2 = KeywordExtractor(\n",
        "        lan = \"ru\",\n",
        "        n = 2,\n",
        "        dedupLim = 0.6 ,\n",
        "        top = 5\n",
        "    )\n",
        "\n",
        "    extractor1 = KeywordExtractor(\n",
        "        lan = \"ru\",\n",
        "        n = 1,\n",
        "        dedupLim = 0.6,\n",
        "        top = 5\n",
        "    )\n",
        "\n",
        "    def is_russian_word(word):\n",
        "        russian_pattern = re.compile('[а-яё]+', re.I)\n",
        "        return bool(russian_pattern.match(word))\n",
        "\n",
        "\n",
        "    def normalize_tag(tag):\n",
        "        parsed_tag = morph.parse(tag)[0]\n",
        "        normalized_tag = parsed_tag.normal_form\n",
        "        return normalized_tag\n",
        "\n",
        "\n",
        "\n",
        "    k2 = extractor2.extract_keywords(text)\n",
        "    k1 = extractor1.extract_keywords(text)\n",
        "\n",
        "    keywords = k2[:1]\n",
        "    keywords.extend(k1)\n",
        "    keywords.extend(k1[1:])\n",
        "\n",
        "    filtered_keywords = []\n",
        "\n",
        "    for kw, score in keywords:\n",
        "        nkw = normalize_tag(kw)\n",
        "        kw = list(kw.split())\n",
        "\n",
        "        f = 0\n",
        "        s = []\n",
        "        for i in range(len(kw)):\n",
        "            if not is_russian_word(kw[i]):\n",
        "                s.append(kw[i])\n",
        "                continue\n",
        "            if 'новость' in nkw or ' риа' in nkw or nkw == 'риа':\n",
        "                f = 1\n",
        "                break\n",
        "            parsed_word = morph.parse(kw[i])[0]\n",
        "            if parsed_word.inflect({'nomn'}):\n",
        "                singular_nominative = parsed_word.inflect({'nomn'}).word\n",
        "                s.append(singular_nominative.title())\n",
        "\n",
        "        if not f and len(s) > 0:\n",
        "          filtered_keywords.append(' '.join(s))\n",
        "\n",
        "    fk = list(set(filtered_keywords[:4]))\n",
        "    return {'keywords': fk}"
      ],
      "metadata": {
        "id": "POiZ7aRTjBwg"
      },
      "execution_count": null,
      "outputs": []
    },
    {
      "cell_type": "code",
      "source": [
        "news = df.sample(10)\n",
        "news['keywords'] = news['text'].apply(work)"
      ],
      "metadata": {
        "id": "694UdYG2jEWS"
      },
      "execution_count": null,
      "outputs": []
    },
    {
      "cell_type": "code",
      "source": [
        "news"
      ],
      "metadata": {
        "colab": {
          "base_uri": "https://localhost:8080/",
          "height": 1000
        },
        "id": "CD0iFUuUjIZl",
        "outputId": "80bf26c5-374a-4bf3-f4ce-e907d7399f74"
      },
      "execution_count": null,
      "outputs": [
        {
          "output_type": "execute_result",
          "data": {
            "text/plain": [
              "                                                    title  \\\n",
              "466128        Джордж Майкл выпал из машины на полном ходу   \n",
              "537989         Прокуратура объявила Кернеса подозреваемым   \n",
              "253655  Жители Калифорнии проголосовали за запрет одно...   \n",
              "571936  Турецкий премьер отверг возможность военной оп...   \n",
              "548329             Саакашвили получил гражданство Украины   \n",
              "476362           Dragon's Crown выйдет в Европе в октябре   \n",
              "242026  ООН раскритиковала Великобританию за ограничен...   \n",
              "92447           Клинтону прислали письмо с белым порошком   \n",
              "583026  SpaceX отменила старт ракеты Falcon 9 за две м...   \n",
              "246033  Банк Lehman Brothers лишился потенциальных пок...   \n",
              "\n",
              "                                                     text            topic  \\\n",
              "466128  Британский певец Джордж Майкл вывалился из авт...         Из жизни   \n",
              "537989  Генеральная прокуратура Украины официально объ...      Бывший СССР   \n",
              "253655  Жители Калифорнии поддержали запрет на однопол...              Мир   \n",
              "571936  Анкара не собирается проводить военную операци...              Мир   \n",
              "548329  Бывший президент Грузии Михаил Саакашвили полу...      Бывший СССР   \n",
              "476362  Стала известна дата европейского релиза игры D...  Наука и техника   \n",
              "242026  Комитет ООН по правам человека в своем новом д...              Мир   \n",
              "92447   Офис бывшего президента США Билла Клинтона (Bi...           Россия   \n",
              "583026  Компания SpaceX отменила запуск ракеты Falcon ...  Наука и техника   \n",
              "246033  Британский банк Barclays и американский Bank o...        Экономика   \n",
              "\n",
              "                tags        date  \\\n",
              "466128  Происшествия  2013/05/21   \n",
              "537989       Украина  2015/03/04   \n",
              "253655           Все  2008/11/06   \n",
              "571936      Политика  2015/12/05   \n",
              "548329       Украина  2015/05/30   \n",
              "476362          Игры  2013/08/15   \n",
              "242026           Все  2008/08/15   \n",
              "92447            Все  2004/04/28   \n",
              "583026        Космос  2016/02/26   \n",
              "246033           Все  2008/09/15   \n",
              "\n",
              "                                                 keywords  \n",
              "466128  {'keywords': ['Скорость', 'Британский', 'Майкл...  \n",
              "537989  {'keywords': ['Украина', 'Харьков Геннадий', '...  \n",
              "253655    {'keywords': ['Запрет', 'Калифорния', 'Браки']}  \n",
              "571936  {'keywords': ['Исламское', 'Исламское Государс...  \n",
              "548329  {'keywords': ['Украина', 'Саакашвили', 'Михаил...  \n",
              "476362  {'keywords': ['Dragon', 'Dragon Crown', 'Экшн'...  \n",
              "242026  {'keywords': ['Оон', 'The Guardian', 'Великобр...  \n",
              "92447   {'keywords': ['Bill', 'Clinton', 'Bill Clinton...  \n",
              "583026  {'keywords': ['Ракеты', 'Falcon', 'Компания', ...  \n",
              "246033  {'keywords': ['Lehman', 'Brothers', 'Barclays'...  "
            ],
            "text/html": [
              "\n",
              "  <div id=\"df-09357da9-7c9e-422a-93c1-e98266a35171\" class=\"colab-df-container\">\n",
              "    <div>\n",
              "<style scoped>\n",
              "    .dataframe tbody tr th:only-of-type {\n",
              "        vertical-align: middle;\n",
              "    }\n",
              "\n",
              "    .dataframe tbody tr th {\n",
              "        vertical-align: top;\n",
              "    }\n",
              "\n",
              "    .dataframe thead th {\n",
              "        text-align: right;\n",
              "    }\n",
              "</style>\n",
              "<table border=\"1\" class=\"dataframe\">\n",
              "  <thead>\n",
              "    <tr style=\"text-align: right;\">\n",
              "      <th></th>\n",
              "      <th>title</th>\n",
              "      <th>text</th>\n",
              "      <th>topic</th>\n",
              "      <th>tags</th>\n",
              "      <th>date</th>\n",
              "      <th>keywords</th>\n",
              "    </tr>\n",
              "  </thead>\n",
              "  <tbody>\n",
              "    <tr>\n",
              "      <th>466128</th>\n",
              "      <td>Джордж Майкл выпал из машины на полном ходу</td>\n",
              "      <td>Британский певец Джордж Майкл вывалился из авт...</td>\n",
              "      <td>Из жизни</td>\n",
              "      <td>Происшествия</td>\n",
              "      <td>2013/05/21</td>\n",
              "      <td>{'keywords': ['Скорость', 'Британский', 'Майкл...</td>\n",
              "    </tr>\n",
              "    <tr>\n",
              "      <th>537989</th>\n",
              "      <td>Прокуратура объявила Кернеса подозреваемым</td>\n",
              "      <td>Генеральная прокуратура Украины официально объ...</td>\n",
              "      <td>Бывший СССР</td>\n",
              "      <td>Украина</td>\n",
              "      <td>2015/03/04</td>\n",
              "      <td>{'keywords': ['Украина', 'Харьков Геннадий', '...</td>\n",
              "    </tr>\n",
              "    <tr>\n",
              "      <th>253655</th>\n",
              "      <td>Жители Калифорнии проголосовали за запрет одно...</td>\n",
              "      <td>Жители Калифорнии поддержали запрет на однопол...</td>\n",
              "      <td>Мир</td>\n",
              "      <td>Все</td>\n",
              "      <td>2008/11/06</td>\n",
              "      <td>{'keywords': ['Запрет', 'Калифорния', 'Браки']}</td>\n",
              "    </tr>\n",
              "    <tr>\n",
              "      <th>571936</th>\n",
              "      <td>Турецкий премьер отверг возможность военной оп...</td>\n",
              "      <td>Анкара не собирается проводить военную операци...</td>\n",
              "      <td>Мир</td>\n",
              "      <td>Политика</td>\n",
              "      <td>2015/12/05</td>\n",
              "      <td>{'keywords': ['Исламское', 'Исламское Государс...</td>\n",
              "    </tr>\n",
              "    <tr>\n",
              "      <th>548329</th>\n",
              "      <td>Саакашвили получил гражданство Украины</td>\n",
              "      <td>Бывший президент Грузии Михаил Саакашвили полу...</td>\n",
              "      <td>Бывший СССР</td>\n",
              "      <td>Украина</td>\n",
              "      <td>2015/05/30</td>\n",
              "      <td>{'keywords': ['Украина', 'Саакашвили', 'Михаил...</td>\n",
              "    </tr>\n",
              "    <tr>\n",
              "      <th>476362</th>\n",
              "      <td>Dragon's Crown выйдет в Европе в октябре</td>\n",
              "      <td>Стала известна дата европейского релиза игры D...</td>\n",
              "      <td>Наука и техника</td>\n",
              "      <td>Игры</td>\n",
              "      <td>2013/08/15</td>\n",
              "      <td>{'keywords': ['Dragon', 'Dragon Crown', 'Экшн'...</td>\n",
              "    </tr>\n",
              "    <tr>\n",
              "      <th>242026</th>\n",
              "      <td>ООН раскритиковала Великобританию за ограничен...</td>\n",
              "      <td>Комитет ООН по правам человека в своем новом д...</td>\n",
              "      <td>Мир</td>\n",
              "      <td>Все</td>\n",
              "      <td>2008/08/15</td>\n",
              "      <td>{'keywords': ['Оон', 'The Guardian', 'Великобр...</td>\n",
              "    </tr>\n",
              "    <tr>\n",
              "      <th>92447</th>\n",
              "      <td>Клинтону прислали письмо с белым порошком</td>\n",
              "      <td>Офис бывшего президента США Билла Клинтона (Bi...</td>\n",
              "      <td>Россия</td>\n",
              "      <td>Все</td>\n",
              "      <td>2004/04/28</td>\n",
              "      <td>{'keywords': ['Bill', 'Clinton', 'Bill Clinton...</td>\n",
              "    </tr>\n",
              "    <tr>\n",
              "      <th>583026</th>\n",
              "      <td>SpaceX отменила старт ракеты Falcon 9 за две м...</td>\n",
              "      <td>Компания SpaceX отменила запуск ракеты Falcon ...</td>\n",
              "      <td>Наука и техника</td>\n",
              "      <td>Космос</td>\n",
              "      <td>2016/02/26</td>\n",
              "      <td>{'keywords': ['Ракеты', 'Falcon', 'Компания', ...</td>\n",
              "    </tr>\n",
              "    <tr>\n",
              "      <th>246033</th>\n",
              "      <td>Банк Lehman Brothers лишился потенциальных пок...</td>\n",
              "      <td>Британский банк Barclays и американский Bank o...</td>\n",
              "      <td>Экономика</td>\n",
              "      <td>Все</td>\n",
              "      <td>2008/09/15</td>\n",
              "      <td>{'keywords': ['Lehman', 'Brothers', 'Barclays'...</td>\n",
              "    </tr>\n",
              "  </tbody>\n",
              "</table>\n",
              "</div>\n",
              "    <div class=\"colab-df-buttons\">\n",
              "\n",
              "  <div class=\"colab-df-container\">\n",
              "    <button class=\"colab-df-convert\" onclick=\"convertToInteractive('df-09357da9-7c9e-422a-93c1-e98266a35171')\"\n",
              "            title=\"Convert this dataframe to an interactive table.\"\n",
              "            style=\"display:none;\">\n",
              "\n",
              "  <svg xmlns=\"http://www.w3.org/2000/svg\" height=\"24px\" viewBox=\"0 -960 960 960\">\n",
              "    <path d=\"M120-120v-720h720v720H120Zm60-500h600v-160H180v160Zm220 220h160v-160H400v160Zm0 220h160v-160H400v160ZM180-400h160v-160H180v160Zm440 0h160v-160H620v160ZM180-180h160v-160H180v160Zm440 0h160v-160H620v160Z\"/>\n",
              "  </svg>\n",
              "    </button>\n",
              "\n",
              "  <style>\n",
              "    .colab-df-container {\n",
              "      display:flex;\n",
              "      gap: 12px;\n",
              "    }\n",
              "\n",
              "    .colab-df-convert {\n",
              "      background-color: #E8F0FE;\n",
              "      border: none;\n",
              "      border-radius: 50%;\n",
              "      cursor: pointer;\n",
              "      display: none;\n",
              "      fill: #1967D2;\n",
              "      height: 32px;\n",
              "      padding: 0 0 0 0;\n",
              "      width: 32px;\n",
              "    }\n",
              "\n",
              "    .colab-df-convert:hover {\n",
              "      background-color: #E2EBFA;\n",
              "      box-shadow: 0px 1px 2px rgba(60, 64, 67, 0.3), 0px 1px 3px 1px rgba(60, 64, 67, 0.15);\n",
              "      fill: #174EA6;\n",
              "    }\n",
              "\n",
              "    .colab-df-buttons div {\n",
              "      margin-bottom: 4px;\n",
              "    }\n",
              "\n",
              "    [theme=dark] .colab-df-convert {\n",
              "      background-color: #3B4455;\n",
              "      fill: #D2E3FC;\n",
              "    }\n",
              "\n",
              "    [theme=dark] .colab-df-convert:hover {\n",
              "      background-color: #434B5C;\n",
              "      box-shadow: 0px 1px 3px 1px rgba(0, 0, 0, 0.15);\n",
              "      filter: drop-shadow(0px 1px 2px rgba(0, 0, 0, 0.3));\n",
              "      fill: #FFFFFF;\n",
              "    }\n",
              "  </style>\n",
              "\n",
              "    <script>\n",
              "      const buttonEl =\n",
              "        document.querySelector('#df-09357da9-7c9e-422a-93c1-e98266a35171 button.colab-df-convert');\n",
              "      buttonEl.style.display =\n",
              "        google.colab.kernel.accessAllowed ? 'block' : 'none';\n",
              "\n",
              "      async function convertToInteractive(key) {\n",
              "        const element = document.querySelector('#df-09357da9-7c9e-422a-93c1-e98266a35171');\n",
              "        const dataTable =\n",
              "          await google.colab.kernel.invokeFunction('convertToInteractive',\n",
              "                                                    [key], {});\n",
              "        if (!dataTable) return;\n",
              "\n",
              "        const docLinkHtml = 'Like what you see? Visit the ' +\n",
              "          '<a target=\"_blank\" href=https://colab.research.google.com/notebooks/data_table.ipynb>data table notebook</a>'\n",
              "          + ' to learn more about interactive tables.';\n",
              "        element.innerHTML = '';\n",
              "        dataTable['output_type'] = 'display_data';\n",
              "        await google.colab.output.renderOutput(dataTable, element);\n",
              "        const docLink = document.createElement('div');\n",
              "        docLink.innerHTML = docLinkHtml;\n",
              "        element.appendChild(docLink);\n",
              "      }\n",
              "    </script>\n",
              "  </div>\n",
              "\n",
              "\n",
              "<div id=\"df-de196c53-2958-43a2-bd51-1250973b336c\">\n",
              "  <button class=\"colab-df-quickchart\" onclick=\"quickchart('df-de196c53-2958-43a2-bd51-1250973b336c')\"\n",
              "            title=\"Suggest charts\"\n",
              "            style=\"display:none;\">\n",
              "\n",
              "<svg xmlns=\"http://www.w3.org/2000/svg\" height=\"24px\"viewBox=\"0 0 24 24\"\n",
              "     width=\"24px\">\n",
              "    <g>\n",
              "        <path d=\"M19 3H5c-1.1 0-2 .9-2 2v14c0 1.1.9 2 2 2h14c1.1 0 2-.9 2-2V5c0-1.1-.9-2-2-2zM9 17H7v-7h2v7zm4 0h-2V7h2v10zm4 0h-2v-4h2v4z\"/>\n",
              "    </g>\n",
              "</svg>\n",
              "  </button>\n",
              "\n",
              "<style>\n",
              "  .colab-df-quickchart {\n",
              "      --bg-color: #E8F0FE;\n",
              "      --fill-color: #1967D2;\n",
              "      --hover-bg-color: #E2EBFA;\n",
              "      --hover-fill-color: #174EA6;\n",
              "      --disabled-fill-color: #AAA;\n",
              "      --disabled-bg-color: #DDD;\n",
              "  }\n",
              "\n",
              "  [theme=dark] .colab-df-quickchart {\n",
              "      --bg-color: #3B4455;\n",
              "      --fill-color: #D2E3FC;\n",
              "      --hover-bg-color: #434B5C;\n",
              "      --hover-fill-color: #FFFFFF;\n",
              "      --disabled-bg-color: #3B4455;\n",
              "      --disabled-fill-color: #666;\n",
              "  }\n",
              "\n",
              "  .colab-df-quickchart {\n",
              "    background-color: var(--bg-color);\n",
              "    border: none;\n",
              "    border-radius: 50%;\n",
              "    cursor: pointer;\n",
              "    display: none;\n",
              "    fill: var(--fill-color);\n",
              "    height: 32px;\n",
              "    padding: 0;\n",
              "    width: 32px;\n",
              "  }\n",
              "\n",
              "  .colab-df-quickchart:hover {\n",
              "    background-color: var(--hover-bg-color);\n",
              "    box-shadow: 0 1px 2px rgba(60, 64, 67, 0.3), 0 1px 3px 1px rgba(60, 64, 67, 0.15);\n",
              "    fill: var(--button-hover-fill-color);\n",
              "  }\n",
              "\n",
              "  .colab-df-quickchart-complete:disabled,\n",
              "  .colab-df-quickchart-complete:disabled:hover {\n",
              "    background-color: var(--disabled-bg-color);\n",
              "    fill: var(--disabled-fill-color);\n",
              "    box-shadow: none;\n",
              "  }\n",
              "\n",
              "  .colab-df-spinner {\n",
              "    border: 2px solid var(--fill-color);\n",
              "    border-color: transparent;\n",
              "    border-bottom-color: var(--fill-color);\n",
              "    animation:\n",
              "      spin 1s steps(1) infinite;\n",
              "  }\n",
              "\n",
              "  @keyframes spin {\n",
              "    0% {\n",
              "      border-color: transparent;\n",
              "      border-bottom-color: var(--fill-color);\n",
              "      border-left-color: var(--fill-color);\n",
              "    }\n",
              "    20% {\n",
              "      border-color: transparent;\n",
              "      border-left-color: var(--fill-color);\n",
              "      border-top-color: var(--fill-color);\n",
              "    }\n",
              "    30% {\n",
              "      border-color: transparent;\n",
              "      border-left-color: var(--fill-color);\n",
              "      border-top-color: var(--fill-color);\n",
              "      border-right-color: var(--fill-color);\n",
              "    }\n",
              "    40% {\n",
              "      border-color: transparent;\n",
              "      border-right-color: var(--fill-color);\n",
              "      border-top-color: var(--fill-color);\n",
              "    }\n",
              "    60% {\n",
              "      border-color: transparent;\n",
              "      border-right-color: var(--fill-color);\n",
              "    }\n",
              "    80% {\n",
              "      border-color: transparent;\n",
              "      border-right-color: var(--fill-color);\n",
              "      border-bottom-color: var(--fill-color);\n",
              "    }\n",
              "    90% {\n",
              "      border-color: transparent;\n",
              "      border-bottom-color: var(--fill-color);\n",
              "    }\n",
              "  }\n",
              "</style>\n",
              "\n",
              "  <script>\n",
              "    async function quickchart(key) {\n",
              "      const quickchartButtonEl =\n",
              "        document.querySelector('#' + key + ' button');\n",
              "      quickchartButtonEl.disabled = true;  // To prevent multiple clicks.\n",
              "      quickchartButtonEl.classList.add('colab-df-spinner');\n",
              "      try {\n",
              "        const charts = await google.colab.kernel.invokeFunction(\n",
              "            'suggestCharts', [key], {});\n",
              "      } catch (error) {\n",
              "        console.error('Error during call to suggestCharts:', error);\n",
              "      }\n",
              "      quickchartButtonEl.classList.remove('colab-df-spinner');\n",
              "      quickchartButtonEl.classList.add('colab-df-quickchart-complete');\n",
              "    }\n",
              "    (() => {\n",
              "      let quickchartButtonEl =\n",
              "        document.querySelector('#df-de196c53-2958-43a2-bd51-1250973b336c button');\n",
              "      quickchartButtonEl.style.display =\n",
              "        google.colab.kernel.accessAllowed ? 'block' : 'none';\n",
              "    })();\n",
              "  </script>\n",
              "</div>\n",
              "    </div>\n",
              "  </div>\n"
            ],
            "application/vnd.google.colaboratory.intrinsic+json": {
              "type": "dataframe",
              "variable_name": "news",
              "repr_error": "0"
            }
          },
          "metadata": {},
          "execution_count": 14
        }
      ]
    },
    {
      "cell_type": "markdown",
      "source": [
        "**Rake-NLTK**"
      ],
      "metadata": {
        "id": "cTZqf5AwF-4I"
      }
    },
    {
      "cell_type": "code",
      "source": [
        "%pip install rake-nltk\n",
        "import nltk\n",
        "nltk.download('stopwords')\n",
        "nltk.download('punkt')"
      ],
      "metadata": {
        "id": "-VInYANfGP2R"
      },
      "execution_count": null,
      "outputs": []
    },
    {
      "cell_type": "code",
      "source": [
        "from rake_nltk import Rake\n",
        "\n",
        "text = 'Знаменитый символ Брюсселя \"Писающий мальчик\" (Manneken Pis) - скульптура ребенка, пускающего струйку воды в  чашу фонтана на одной из центральных улиц бельгийской столицы -  в предстоящие субботу и воскресенье будет писать пивом, сообщает РИА \"Новости\". Таким образом брюссельцы отметят праздник мальчика Писа. Праздник посвящен 25-летию традиции одевания скульптуры в различные костюмы и неизменномупортному мальчика - Жаку Строобантсу. Несколько раз в месяц мальчик Пис предстает перед  публикой, в основном туристами, приезжающими в Брюссель  тысячами, то в костюме средневекового пажа, то индейца, то в  солдатской форме времен первой мировой войны, моряка, пилота.  Все его наряды перечислить невозможно, ибо они уже составляютцелую экспозицию специального музея костюмов мальчика Писа. Этатрадиция перекинулась за границы Бельгии. Многие зарубежныеофициальные делегации, приезжающие в Брюссель, дарят голомумальчугану национальные костюмы своих стран. Праздник проводится по инициативе общественной организации- Ордена друзей мальчика Писа. Брюссельцы, великие мастера почасти организации массовых празднеств, приготовили грандиозноезрелище. В центре бельгийской столицы состоится традиционноешествие гигантских кукол. Мальчик на этот раз в отличие отзаведенного порядка переоденется дважды в новые костюмы. А еговерный гардеробщик будет раздавать публике стаканы с пивом,наполненные щедрым Писом. В разных точках города состоятсяконцерты музыкальных и фольклорных групп. А в историческомздании городской ратуши пройдет научный семинар о влиянииподобных фонтанов на развитие урбанизма. Ученые мужи обсудятроль мальчика Писа в истории Брюсселя'\n",
        "\n",
        "r = Rake(language='russian')\n",
        "r.extract_keywords_from_text(text)\n",
        "keywords = r.get_ranked_phrases()\n",
        "for keyword in keywords:\n",
        "    print(keyword)\n"
      ],
      "metadata": {
        "id": "0JBLxC_WGRwo"
      },
      "execution_count": null,
      "outputs": []
    },
    {
      "cell_type": "markdown",
      "source": [
        "**TextBlob**"
      ],
      "metadata": {
        "id": "DnOc1-PTGZbe"
      }
    },
    {
      "cell_type": "code",
      "source": [
        "%pip install textblob\n",
        "import nltk\n",
        "nltk.download('punkt')\n",
        "from textblob import TextBlob\n",
        "import nltk\n",
        "nltk.download('brown')"
      ],
      "metadata": {
        "id": "RUf4rawnGbaQ"
      },
      "execution_count": null,
      "outputs": []
    },
    {
      "cell_type": "code",
      "source": [
        "# text = 'Знаменитый символ Брюсселя \"Писающий мальчик\" (Manneken Pis) - скульптура ребенка, пускающего струйку воды в  чашу фонтана на одной из центральных улиц бельгийской столицы -  в предстоящие субботу и воскресенье будет писать пивом, сообщает РИА \"Новости\". Таким образом брюссельцы отметят праздник мальчика Писа. Праздник посвящен 25-летию традиции одевания скульптуры в различные костюмы и неизменномупортному мальчика - Жаку Строобантсу. Несколько раз в месяц мальчик Пис предстает перед  публикой, в основном туристами, приезжающими в Брюссель  тысячами, то в костюме средневекового пажа, то индейца, то в  солдатской форме времен первой мировой войны, моряка, пилота.  Все его наряды перечислить невозможно, ибо они уже составляютцелую экспозицию специального музея костюмов мальчика Писа. Этатрадиция перекинулась за границы Бельгии. Многие зарубежныеофициальные делегации, приезжающие в Брюссель, дарят голомумальчугану национальные костюмы своих стран. Праздник проводится по инициативе общественной организации- Ордена друзей мальчика Писа. Брюссельцы, великие мастера почасти организации массовых празднеств, приготовили грандиозноезрелище. В центре бельгийской столицы состоится традиционноешествие гигантских кукол. Мальчик на этот раз в отличие отзаведенного порядка переоденется дважды в новые костюмы. А еговерный гардеробщик будет раздавать публике стаканы с пивом,наполненные щедрым Писом. В разных точках города состоятсяконцерты музыкальных и фольклорных групп. А в историческомздании городской ратуши пройдет научный семинар о влиянииподобных фонтанов на развитие урбанизма. Ученые мужи обсудятроль мальчика Писа в истории Брюсселя'\n",
        "text = 'По сообщению агентства РИА \"Новости\", 25 млн долларов было выделено Шамилю Басаеву частными лицами и общественными организациями происламского толка. Как сообщил выступивший в прямом эфире радиостанции \"Эхо Москвы\" начальник Управления информации МВД России Олег Аксенов, эти данные Министерствавнутренних дел подтверждены американскими спецслужбами. В частности, по словам Аксенова, средства внесеныпредставителями Саудовской Аравии и Пакистана, в том числеУсамой Бен Ладеном, который, \"по некоторым данным, в мартеэтого года побывал в лагерях Хаттаба\". При этом, согласно данным МВД, \"во время боевой кампании вЦумадинском и Ботлихском районах Дагестана Басаев истратиллишь 600-800 тыс долларов\", остальные 24 млн долларов пока вего распоряжении, отметил Аксенов. Он высказал предположение,что эти средства будут использованы при проведении операций вдругих районах Дагестана. Сегодня ИТАР-ТАСС сообщил, что первыйзаместитель начальника Главного управления по борьбе сэкономическими преступлениями /ГУБЭП/ МВД РФ генерал-майормилиции Кузьма Шаленков провел брифинг, на котором рассказало существующих путях финансирования боевиков. По его словам, существует три канала, по которым поступает\"финансовая подпитка боевикам\". \"Внутренний официальный канал\"включает денежные средства, поступающие в республики СеверногоКавказа на образование и медицину, которые расхищаются и идутна финансирование бандформирований. \"Внутренний неофициальныйканал\", по которому поступают финансовые иматериально-технические средства бизнесменов, занятых влегальном бизнесе, но \"симпатизирующих боевикам\". \"Нелегальныйвнешний канал\", который включает в себя финансовую деятельностьорганизаций экстремистского толка, заинтересованных вдестабилизации ситуации в Дагестане. Шаленков недвусмысленно отметил, что в деле финансирования экстремистов замешаны российские банки \"средней руки\".'\n",
        "\n",
        "blob = TextBlob(text)\n",
        "keywords = blob.noun_phrases\n",
        "for keyword in keywords:\n",
        "    print(keyword)\n"
      ],
      "metadata": {
        "id": "0YHqAGivGcLT"
      },
      "execution_count": null,
      "outputs": []
    }
  ],
  "metadata": {
    "kernelspec": {
      "display_name": "Python 3",
      "language": "python",
      "name": "python3"
    },
    "language_info": {
      "name": "python",
      "version": "3.9.13"
    },
    "colab": {
      "provenance": []
    }
  },
  "nbformat": 4,
  "nbformat_minor": 0
}